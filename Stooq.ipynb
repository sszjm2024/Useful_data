{
 "cells": [
  {
   "cell_type": "markdown",
   "id": "34a32290",
   "metadata": {},
   "source": [
    "# Download data from Stooq website and store in an efficient way"
   ]
  },
  {
   "cell_type": "markdown",
   "id": "4d82b3f9",
   "metadata": {},
   "source": [
    "Read the downloaded data package from stooq and stock as a HDF5. HDF5 has the fastest write/read speed"
   ]
  },
  {
   "cell_type": "code",
   "execution_count": 1,
   "id": "a62d1f11",
   "metadata": {},
   "outputs": [],
   "source": [
    "# import os\n",
    "# import pandas as pd\n",
    "# import datetime\n",
    "\n",
    "# # Specify the directory you want to go through\n",
    "# directory = 'data'\n",
    "\n",
    "# # Initialize an empty DataFrame for storing all data\n",
    "# all_data = pd.DataFrame()\n",
    "\n",
    "# # Loop through the files in the directory\n",
    "# for root, dirs, files in os.walk(directory):\n",
    "#     for filename in files:\n",
    "#         if filename.endswith('.txt'):\n",
    "#             filepath = os.path.join(root, filename)\n",
    "#             try:\n",
    "#                 # Adjust the 'sep' parameter based on your file's delimiter\n",
    "#                 temp_df = pd.read_csv(filepath)  # Assuming comma-separated for illustration\n",
    "                \n",
    "#                 # Check if the DataFrame is not empty\n",
    "#                 if not temp_df.empty:\n",
    "#                     # Extract relative path as folder name for the MultiIndex\n",
    "#                     folder_name = os.path.relpath(root, directory)\n",
    "#                     # Create a MultiIndex from the folder name and filename\n",
    "#                     temp_df.index = pd.MultiIndex.from_product([[folder_name], [filename], range(len(temp_df))],\n",
    "#                                                                names=['Folder', 'File', 'Row'])\n",
    "#                     # Append to the main DataFrame\n",
    "#                     all_data = pd.concat([all_data, temp_df])\n",
    "#             except Exception as e:\n",
    "#                 print(f\"Failed to read file {filepath}: {e}\")\n",
    "\n",
    "# # Now `all_data` contains all the data with a MultiIndex (Folder, File, Row)\n",
    "# print(all_data)\n",
    "# with pd.HDFStore(DATA_STORE) as store:\n",
    "#     store.put('stooq', all_data)"
   ]
  },
  {
   "cell_type": "code",
   "execution_count": 2,
   "id": "0853b335",
   "metadata": {},
   "outputs": [
    {
     "name": "stderr",
     "output_type": "stream",
     "text": [
      "/Users/ljiehong/anaconda3/lib/python3.11/site-packages/pandas/core/arrays/masked.py:60: UserWarning: Pandas requires version '1.3.6' or newer of 'bottleneck' (version '1.3.5' currently installed).\n",
      "  from pandas.core import (\n"
     ]
    }
   ],
   "source": [
    "from pathlib import Path\n",
    "import pandas as pd\n",
    "import warnings\n",
    "warnings.filterwarnings('ignore')\n",
    "DATA_STORE = Path('stooq.h5')"
   ]
  },
  {
   "cell_type": "code",
   "execution_count": 3,
   "id": "761b8622",
   "metadata": {},
   "outputs": [],
   "source": [
    "#load the HDF5 file \n",
    "with pd.HDFStore('stooq.h5') as store:\n",
    "    prices = store['stooq']\n"
   ]
  },
  {
   "cell_type": "markdown",
   "id": "ba723530",
   "metadata": {},
   "source": [
    "## Data Cleaning"
   ]
  },
  {
   "cell_type": "code",
   "execution_count": 4,
   "id": "07e483a4",
   "metadata": {},
   "outputs": [],
   "source": [
    "prices = prices.reset_index('Row')\n",
    "prices = prices.set_index(pd.to_datetime(prices['<DATE>'].astype(str)), append = True)\n",
    "prices = prices.set_index(prices['<TICKER>'], append = True)\n",
    "prices = prices.drop(['Row', '<PER>', '<TIME>', '<OPENINT>', '<TICKER>', '<DATE>'],axis = 1) #delete the unnecessary columns"
   ]
  },
  {
   "cell_type": "code",
   "execution_count": 5,
   "id": "9630f108",
   "metadata": {},
   "outputs": [],
   "source": [
    "# Some adjustment for the dataset, the downloaded file has subdirectory under main directory, delete the subdirectory\n",
    "dfs = {name: group for name, group in prices.groupby(level=0)}\n",
    "dfs.keys()\n",
    "prefix_groups = {}\n",
    "for key in dfs.keys():\n",
    "    # Extract the first three directories as the common prefix\n",
    "    prefix = '/'.join(key.split('/')[:3])\n",
    "    if prefix not in prefix_groups:\n",
    "        prefix_groups[prefix] = []\n",
    "    prefix_groups[prefix].append(key)\n",
    "\n",
    "combined_dfs = {}\n",
    "for prefix, keys in prefix_groups.items():\n",
    "    # Combine all DataFrames within the same group\n",
    "    combined_dfs[prefix] = pd.concat([dfs[key] for key in keys])\n"
   ]
  },
  {
   "cell_type": "code",
   "execution_count": 6,
   "id": "5b6ef697",
   "metadata": {},
   "outputs": [
    {
     "data": {
      "text/plain": [
       "dict_keys(['daily/us/nasdaq etfs', 'daily/us/nasdaq stocks', 'daily/us/nyse etfs', 'daily/us/nyse stocks', 'daily/us/nysemkt stocks'])"
      ]
     },
     "execution_count": 6,
     "metadata": {},
     "output_type": "execute_result"
    }
   ],
   "source": [
    "combined_dfs.keys()"
   ]
  },
  {
   "cell_type": "code",
   "execution_count": 7,
   "id": "9b42fb56",
   "metadata": {},
   "outputs": [],
   "source": [
    "#Store the dictionary separately as HDF5 file\n",
    "\n",
    "for i in combined_dfs.keys():\n",
    "    combined_dfs[i] = combined_dfs[i].reset_index('Folder')\n",
    "    combined_dfs[i] = combined_dfs[i].drop('Folder', axis = 1)\n",
    "    combined_dfs[i] = combined_dfs[i].reset_index('File')\n",
    "    combined_dfs[i] = combined_dfs[i].drop('File', axis = 1)\n",
    "    \n",
    "    with pd.HDFStore(DATA_STORE) as store:\n",
    "        store.put('stooq/'+i, combined_dfs[i])\n",
    "        \n",
    "    "
   ]
  },
  {
   "cell_type": "code",
   "execution_count": 11,
   "id": "3ba77832",
   "metadata": {},
   "outputs": [
    {
     "data": {
      "text/html": [
       "<div>\n",
       "<style scoped>\n",
       "    .dataframe tbody tr th:only-of-type {\n",
       "        vertical-align: middle;\n",
       "    }\n",
       "\n",
       "    .dataframe tbody tr th {\n",
       "        vertical-align: top;\n",
       "    }\n",
       "\n",
       "    .dataframe thead th {\n",
       "        text-align: right;\n",
       "    }\n",
       "</style>\n",
       "<table border=\"1\" class=\"dataframe\">\n",
       "  <thead>\n",
       "    <tr style=\"text-align: right;\">\n",
       "      <th></th>\n",
       "      <th></th>\n",
       "      <th>&lt;OPEN&gt;</th>\n",
       "      <th>&lt;HIGH&gt;</th>\n",
       "      <th>&lt;LOW&gt;</th>\n",
       "      <th>&lt;CLOSE&gt;</th>\n",
       "      <th>&lt;VOL&gt;</th>\n",
       "    </tr>\n",
       "    <tr>\n",
       "      <th>&lt;DATE&gt;</th>\n",
       "      <th>&lt;TICKER&gt;</th>\n",
       "      <th></th>\n",
       "      <th></th>\n",
       "      <th></th>\n",
       "      <th></th>\n",
       "      <th></th>\n",
       "    </tr>\n",
       "  </thead>\n",
       "  <tbody>\n",
       "    <tr>\n",
       "      <th>2021-05-18</th>\n",
       "      <th>GTX.US</th>\n",
       "      <td>6.60</td>\n",
       "      <td>6.750</td>\n",
       "      <td>6.3900</td>\n",
       "      <td>6.43</td>\n",
       "      <td>696055.0</td>\n",
       "    </tr>\n",
       "    <tr>\n",
       "      <th>2021-05-19</th>\n",
       "      <th>GTX.US</th>\n",
       "      <td>6.42</td>\n",
       "      <td>6.420</td>\n",
       "      <td>6.1500</td>\n",
       "      <td>6.20</td>\n",
       "      <td>383614.0</td>\n",
       "    </tr>\n",
       "    <tr>\n",
       "      <th>2021-05-20</th>\n",
       "      <th>GTX.US</th>\n",
       "      <td>6.41</td>\n",
       "      <td>6.410</td>\n",
       "      <td>6.1821</td>\n",
       "      <td>6.30</td>\n",
       "      <td>888296.0</td>\n",
       "    </tr>\n",
       "    <tr>\n",
       "      <th>2021-05-21</th>\n",
       "      <th>GTX.US</th>\n",
       "      <td>6.59</td>\n",
       "      <td>6.690</td>\n",
       "      <td>6.3000</td>\n",
       "      <td>6.64</td>\n",
       "      <td>1065179.0</td>\n",
       "    </tr>\n",
       "    <tr>\n",
       "      <th>2021-05-24</th>\n",
       "      <th>GTX.US</th>\n",
       "      <td>7.10</td>\n",
       "      <td>7.640</td>\n",
       "      <td>6.9000</td>\n",
       "      <td>7.42</td>\n",
       "      <td>2987620.0</td>\n",
       "    </tr>\n",
       "    <tr>\n",
       "      <th>...</th>\n",
       "      <th>...</th>\n",
       "      <td>...</td>\n",
       "      <td>...</td>\n",
       "      <td>...</td>\n",
       "      <td>...</td>\n",
       "      <td>...</td>\n",
       "    </tr>\n",
       "    <tr>\n",
       "      <th>2024-02-13</th>\n",
       "      <th>XPEL.US</th>\n",
       "      <td>52.87</td>\n",
       "      <td>54.350</td>\n",
       "      <td>51.7800</td>\n",
       "      <td>52.03</td>\n",
       "      <td>139060.0</td>\n",
       "    </tr>\n",
       "    <tr>\n",
       "      <th>2024-02-14</th>\n",
       "      <th>XPEL.US</th>\n",
       "      <td>52.83</td>\n",
       "      <td>53.390</td>\n",
       "      <td>52.0400</td>\n",
       "      <td>53.12</td>\n",
       "      <td>83478.0</td>\n",
       "    </tr>\n",
       "    <tr>\n",
       "      <th>2024-02-15</th>\n",
       "      <th>XPEL.US</th>\n",
       "      <td>53.76</td>\n",
       "      <td>56.550</td>\n",
       "      <td>53.6400</td>\n",
       "      <td>56.34</td>\n",
       "      <td>129336.0</td>\n",
       "    </tr>\n",
       "    <tr>\n",
       "      <th>2024-02-16</th>\n",
       "      <th>XPEL.US</th>\n",
       "      <td>56.29</td>\n",
       "      <td>56.693</td>\n",
       "      <td>55.7800</td>\n",
       "      <td>56.24</td>\n",
       "      <td>89592.0</td>\n",
       "    </tr>\n",
       "    <tr>\n",
       "      <th>2024-02-20</th>\n",
       "      <th>XPEL.US</th>\n",
       "      <td>55.80</td>\n",
       "      <td>56.105</td>\n",
       "      <td>54.1800</td>\n",
       "      <td>54.43</td>\n",
       "      <td>131767.0</td>\n",
       "    </tr>\n",
       "  </tbody>\n",
       "</table>\n",
       "<p>8601161 rows × 5 columns</p>\n",
       "</div>"
      ],
      "text/plain": [
       "                     <OPEN>  <HIGH>    <LOW>  <CLOSE>      <VOL>\n",
       "<DATE>     <TICKER>                                             \n",
       "2021-05-18 GTX.US      6.60   6.750   6.3900     6.43   696055.0\n",
       "2021-05-19 GTX.US      6.42   6.420   6.1500     6.20   383614.0\n",
       "2021-05-20 GTX.US      6.41   6.410   6.1821     6.30   888296.0\n",
       "2021-05-21 GTX.US      6.59   6.690   6.3000     6.64  1065179.0\n",
       "2021-05-24 GTX.US      7.10   7.640   6.9000     7.42  2987620.0\n",
       "...                     ...     ...      ...      ...        ...\n",
       "2024-02-13 XPEL.US    52.87  54.350  51.7800    52.03   139060.0\n",
       "2024-02-14 XPEL.US    52.83  53.390  52.0400    53.12    83478.0\n",
       "2024-02-15 XPEL.US    53.76  56.550  53.6400    56.34   129336.0\n",
       "2024-02-16 XPEL.US    56.29  56.693  55.7800    56.24    89592.0\n",
       "2024-02-20 XPEL.US    55.80  56.105  54.1800    54.43   131767.0\n",
       "\n",
       "[8601161 rows x 5 columns]"
      ]
     },
     "execution_count": 11,
     "metadata": {},
     "output_type": "execute_result"
    }
   ],
   "source": [
    "#Here is an example for splited dataframe\n",
    "with pd.HDFStore('stooq.h5') as store:\n",
    "    temp = store['stooq/daily/us/nasdaq stocks']\n",
    "temp"
   ]
  }
 ],
 "metadata": {
  "kernelspec": {
   "display_name": "Python 3 (ipykernel)",
   "language": "python",
   "name": "python3"
  },
  "language_info": {
   "codemirror_mode": {
    "name": "ipython",
    "version": 3
   },
   "file_extension": ".py",
   "mimetype": "text/x-python",
   "name": "python",
   "nbconvert_exporter": "python",
   "pygments_lexer": "ipython3",
   "version": "3.11.5"
  }
 },
 "nbformat": 4,
 "nbformat_minor": 5
}
